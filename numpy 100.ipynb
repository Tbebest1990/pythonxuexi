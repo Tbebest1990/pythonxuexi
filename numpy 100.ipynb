{
 "cells": [
  {
   "cell_type": "code",
   "execution_count": 159,
   "metadata": {
    "collapsed": true,
    "pycharm": {
     "is_executing": false
    }
   },
   "outputs": [],
   "source": [
    "import numpy as np\n",
    "import pandas as pd"
   ]
  },
  {
   "cell_type": "code",
   "execution_count": 160,
   "outputs": [
    {
     "name": "stdout",
     "text": [
      "1.18.1\n"
     ],
     "output_type": "stream"
    }
   ],
   "source": [
    "print(np.__version__)"
   ],
   "metadata": {
    "collapsed": false,
    "pycharm": {
     "name": "#%%\n",
     "is_executing": false
    }
   }
  },
  {
   "cell_type": "code",
   "execution_count": 161,
   "outputs": [
    {
     "data": {
      "text/plain": "array([0., 0., 0., 0., 0., 0., 0., 0., 0., 0.])"
     },
     "metadata": {},
     "output_type": "execute_result",
     "execution_count": 161
    }
   ],
   "source": [
    "a=np.zeros(10)\n",
    "a"
   ],
   "metadata": {
    "collapsed": false,
    "pycharm": {
     "name": "#%%\n",
     "is_executing": false
    }
   }
  },
  {
   "cell_type": "code",
   "execution_count": 162,
   "outputs": [
    {
     "name": "stdout",
     "text": [
      "10\n",
      "8\n",
      "80\n",
      "80\n"
     ],
     "output_type": "stream"
    }
   ],
   "source": [
    "print(a.size)\n",
    "print(a.itemsize)\n",
    "print(a.nbytes)\n",
    "print(a.size*a.itemsize)\n"
   ],
   "metadata": {
    "collapsed": false,
    "pycharm": {
     "name": "#%%\n",
     "is_executing": false
    }
   }
  },
  {
   "cell_type": "code",
   "execution_count": 163,
   "outputs": [
    {
     "name": "stdout",
     "text": [
      "absolute(x, /, out=None, *, where=True, casting='same_kind', order='K', dtype=None, subok=True[, signature, extobj])\n",
      "\n",
      "Calculate the absolute value element-wise.\n",
      "\n",
      "``np.abs`` is a shorthand for this function.\n",
      "\n",
      "Parameters\n",
      "----------\n",
      "x : array_like\n",
      "    Input array.\n",
      "out : ndarray, None, or tuple of ndarray and None, optional\n",
      "    A location into which the result is stored. If provided, it must have\n",
      "    a shape that the inputs broadcast to. If not provided or None,\n",
      "    a freshly-allocated array is returned. A tuple (possible only as a\n",
      "    keyword argument) must have length equal to the number of outputs.\n",
      "where : array_like, optional\n",
      "    This condition is broadcast over the input. At locations where the\n",
      "    condition is True, the `out` array will be set to the ufunc result.\n",
      "    Elsewhere, the `out` array will retain its original value.\n",
      "    Note that if an uninitialized `out` array is created via the default\n",
      "    ``out=None``, locations within it where the condition is False will\n",
      "    remain uninitialized.\n",
      "**kwargs\n",
      "    For other keyword-only arguments, see the\n",
      "    :ref:`ufunc docs <ufuncs.kwargs>`.\n",
      "\n",
      "Returns\n",
      "-------\n",
      "absolute : ndarray\n",
      "    An ndarray containing the absolute value of\n",
      "    each element in `x`.  For complex input, ``a + ib``, the\n",
      "    absolute value is :math:`\\sqrt{ a^2 + b^2 }`.\n",
      "    This is a scalar if `x` is a scalar.\n",
      "\n",
      "Examples\n",
      "--------\n",
      ">>> x = np.array([-1.2, 1.2])\n",
      ">>> np.absolute(x)\n",
      "array([ 1.2,  1.2])\n",
      ">>> np.absolute(1.2 + 1j)\n",
      "1.5620499351813308\n",
      "\n",
      "Plot the function over ``[-10, 10]``:\n",
      "\n",
      ">>> import matplotlib.pyplot as plt\n",
      "\n",
      ">>> x = np.linspace(start=-10, stop=10, num=101)\n",
      ">>> plt.plot(x, np.absolute(x))\n",
      ">>> plt.show()\n",
      "\n",
      "Plot the function over the complex plane:\n",
      "\n",
      ">>> xx = x + 1j * x[:, np.newaxis]\n",
      ">>> plt.imshow(np.abs(xx), extent=[-10, 10, -10, 10], cmap='gray')\n",
      ">>> plt.show()\n"
     ],
     "output_type": "stream"
    }
   ],
   "source": [
    "np.info(np.abs)"
   ],
   "metadata": {
    "collapsed": false,
    "pycharm": {
     "name": "#%%\n",
     "is_executing": false
    }
   }
  },
  {
   "cell_type": "code",
   "execution_count": 164,
   "outputs": [
    {
     "data": {
      "text/plain": "array([0., 0., 0., 0., 1., 0., 0., 0., 0., 0.])"
     },
     "metadata": {},
     "output_type": "execute_result",
     "execution_count": 164
    }
   ],
   "source": [
    "a=np.zeros(10)\n",
    "a[4]=1\n",
    "a"
   ],
   "metadata": {
    "collapsed": false,
    "pycharm": {
     "name": "#%%\n",
     "is_executing": false
    }
   }
  },
  {
   "cell_type": "code",
   "execution_count": 165,
   "outputs": [
    {
     "name": "stdout",
     "text": [
      "[0 1 2 3 4 5 6 7 8 9]\n",
      "[1 3 5 7 9]\n",
      "[10 11 12 13 14 15 16 17 18 19]\n"
     ],
     "output_type": "stream"
    }
   ],
   "source": [
    "print(np.arange(10))\n",
    "print(np.arange(1,10,2))\n",
    "print(np.arange(10,20))"
   ],
   "metadata": {
    "collapsed": false,
    "pycharm": {
     "name": "#%%\n",
     "is_executing": false
    }
   }
  },
  {
   "cell_type": "code",
   "execution_count": 166,
   "outputs": [
    {
     "name": "stdout",
     "text": [
      "[9 8 7 6 5 4 3 2 1]\n"
     ],
     "output_type": "stream"
    }
   ],
   "source": [
    "a=np.arange(1,10)\n",
    "print(a[::-1])\n"
   ],
   "metadata": {
    "collapsed": false,
    "pycharm": {
     "name": "#%%\n",
     "is_executing": false
    }
   }
  },
  {
   "cell_type": "code",
   "execution_count": 167,
   "outputs": [
    {
     "data": {
      "text/plain": "array([[0, 1, 2],\n       [3, 4, 5],\n       [6, 7, 8]])"
     },
     "metadata": {},
     "output_type": "execute_result",
     "execution_count": 167
    }
   ],
   "source": [
    "a=np.arange(0,9).reshape((3,3))\n",
    "a\n"
   ],
   "metadata": {
    "collapsed": false,
    "pycharm": {
     "name": "#%%\n",
     "is_executing": false
    }
   }
  },
  {
   "cell_type": "code",
   "execution_count": 168,
   "outputs": [
    {
     "name": "stdout",
     "text": [
      "(array([1, 2, 3], dtype=int64),)\n"
     ],
     "output_type": "stream"
    }
   ],
   "source": [
    "a=np.array([1,2,3,40,0,0,0])\n",
    "print(np.nonzero(a>1))\n"
   ],
   "metadata": {
    "collapsed": false,
    "pycharm": {
     "name": "#%%\n",
     "is_executing": false
    }
   }
  },
  {
   "cell_type": "code",
   "execution_count": 169,
   "outputs": [
    {
     "data": {
      "text/plain": "array([[1., 0., 0.],\n       [0., 1., 0.],\n       [0., 0., 1.]])"
     },
     "metadata": {},
     "output_type": "execute_result",
     "execution_count": 169
    }
   ],
   "source": [
    "np.eye(3,3)"
   ],
   "metadata": {
    "collapsed": false,
    "pycharm": {
     "name": "#%%\n",
     "is_executing": false
    }
   }
  },
  {
   "cell_type": "code",
   "execution_count": 170,
   "outputs": [
    {
     "name": "stdout",
     "text": [
      "[[31 14  2 38  3 31 18 24 45 35]\n",
      " [ 8  7 30  9 20 32 13 19 37 21]\n",
      " [29 33 47  2 38  9 17  2  5 16]\n",
      " [36 39 41 35 13  6 45 22 34 35]\n",
      " [35 37 49 34 33  7 36 23 49 10]\n",
      " [37 29 46 38 49 17  9 24  5 44]\n",
      " [13 17 12  1  4 37 11 21 28 26]\n",
      " [45  6 39 31 38 15 24 40 31 31]\n",
      " [21 42 14 43 28 22 18 38 42 36]\n",
      " [ 4 36 47 45 25 15  7 31 19 27]]\n",
      "49\n"
     ],
     "output_type": "stream"
    },
    {
     "data": {
      "text/plain": "1"
     },
     "metadata": {},
     "output_type": "execute_result",
     "execution_count": 170
    }
   ],
   "source": [
    "a=np.random.randint(1,50,100).reshape((10,10))\n",
    "print(a)\n",
    "print(a.max())\n",
    "a.min()"
   ],
   "metadata": {
    "collapsed": false,
    "pycharm": {
     "name": "#%%\n",
     "is_executing": false
    }
   }
  },
  {
   "cell_type": "code",
   "execution_count": 171,
   "outputs": [
    {
     "data": {
      "text/plain": "0.4978753705256765"
     },
     "metadata": {},
     "output_type": "execute_result",
     "execution_count": 171
    }
   ],
   "source": [
    "a=np.random.random(30)\n",
    "a.mean()\n"
   ],
   "metadata": {
    "collapsed": false,
    "pycharm": {
     "name": "#%%\n",
     "is_executing": false
    }
   }
  },
  {
   "cell_type": "code",
   "execution_count": 172,
   "outputs": [
    {
     "name": "stdout",
     "text": [
      "[[1 1]\n",
      " [2 2]]\n",
      "[[1 1 1 1]\n",
      " [1 1 1 1]\n",
      " [2 2 2 2]\n",
      " [2 2 2 2]]\n"
     ],
     "output_type": "stream"
    }
   ],
   "source": [
    "array = np.array([[1, 1],[2,2]])\n",
    "ndarray=np.pad(array,((1,1)),\"edge\") \n",
    " \n",
    "print(array)\n",
    "print(ndarray)\n",
    "\n",
    "# np.info(np.pad)\n"
   ],
   "metadata": {
    "collapsed": false,
    "pycharm": {
     "name": "#%%\n",
     "is_executing": false
    }
   }
  },
  {
   "cell_type": "code",
   "execution_count": 173,
   "outputs": [
    {
     "data": {
      "text/plain": "False"
     },
     "metadata": {},
     "output_type": "execute_result",
     "execution_count": 173
    }
   ],
   "source": [
    "np.equal(np.nan,np.nan)\n"
   ],
   "metadata": {
    "collapsed": false,
    "pycharm": {
     "name": "#%%\n",
     "is_executing": false
    }
   }
  },
  {
   "cell_type": "code",
   "execution_count": 174,
   "outputs": [
    {
     "data": {
      "text/plain": "array([[0, 0, 0],\n       [0, 4, 0],\n       [0, 0, 8]])"
     },
     "metadata": {},
     "output_type": "execute_result",
     "execution_count": 174
    }
   ],
   "source": [
    "a=np.arange(9).reshape((3,3))\n",
    "np.diag(a,k=1)\n",
    "x=[1,2,3]\n",
    "np.diag(np.diag(a))"
   ],
   "metadata": {
    "collapsed": false,
    "pycharm": {
     "name": "#%%\n",
     "is_executing": false
    }
   }
  },
  {
   "cell_type": "code",
   "execution_count": 175,
   "outputs": [
    {
     "data": {
      "text/plain": "array([0, 2, 4, 6, 8])"
     },
     "metadata": {},
     "output_type": "execute_result",
     "execution_count": 175
    }
   ],
   "source": [
    "a=np.arange(10)\n",
    "a[::2]"
   ],
   "metadata": {
    "collapsed": false,
    "pycharm": {
     "name": "#%%\n",
     "is_executing": false
    }
   }
  },
  {
   "cell_type": "code",
   "execution_count": 177,
   "outputs": [
    {
     "name": "stdout",
     "text": [
      "[[7 7 6]\n",
      " [7 1 6]\n",
      " [8 8 7]]\n",
      "6\n"
     ],
     "output_type": "stream"
    },
    {
     "data": {
      "text/plain": "(2, 0)"
     },
     "metadata": {},
     "output_type": "execute_result",
     "execution_count": 177
    }
   ],
   "source": [
    "a=np.random.randint(1,9,9).reshape(3,3)\n",
    "print(a)\n",
    "b=np.argmax(a)\n",
    "print(b)\n",
    "np.unravel_index(b,a.shape)"
   ],
   "metadata": {
    "collapsed": false,
    "pycharm": {
     "name": "#%%\n",
     "is_executing": false
    }
   }
  },
  {
   "cell_type": "code",
   "execution_count": 184,
   "outputs": [
    {
     "name": "stdout",
     "text": [
      "[[0 1]\n",
      " [1 0]]\n"
     ],
     "output_type": "stream"
    },
    {
     "data": {
      "text/plain": "array([[0, 1, 0, 1, 0, 1, 0, 1],\n       [1, 0, 1, 0, 1, 0, 1, 0],\n       [0, 1, 0, 1, 0, 1, 0, 1],\n       [1, 0, 1, 0, 1, 0, 1, 0],\n       [0, 1, 0, 1, 0, 1, 0, 1],\n       [1, 0, 1, 0, 1, 0, 1, 0],\n       [0, 1, 0, 1, 0, 1, 0, 1],\n       [1, 0, 1, 0, 1, 0, 1, 0]])"
     },
     "metadata": {},
     "output_type": "execute_result",
     "execution_count": 184
    }
   ],
   "source": [
    "a=np.array([[0,1],[1,0]])\n",
    "print(a)\n",
    "np.tile(a,(4,4))"
   ],
   "metadata": {
    "collapsed": false,
    "pycharm": {
     "name": "#%%\n",
     "is_executing": false
    }
   }
  },
  {
   "cell_type": "code",
   "execution_count": 188,
   "outputs": [
    {
     "data": {
      "text/plain": "array([[-1.39088937, -0.36840128,  0.25569867,  1.37797702, -1.63441392],\n       [ 0.24765818, -1.12108363, -0.15557901,  0.23647895, -1.6449774 ],\n       [-1.54540147,  1.06609338,  0.37990889,  0.7722741 ,  0.20607164],\n       [ 1.21523545,  1.16640294,  0.06725807,  0.47938362, -1.02047519],\n       [ 1.85455226,  0.26808705, -1.29328417, -0.16540657,  0.74683178]])"
     },
     "metadata": {},
     "output_type": "execute_result",
     "execution_count": 188
    }
   ],
   "source": [
    "a=np.random.random((5,5))\n",
    "a=(a-np.mean(a))/(np.std(a))\n",
    "a"
   ],
   "metadata": {
    "collapsed": false,
    "pycharm": {
     "name": "#%%\n",
     "is_executing": false
    }
   }
  },
  {
   "cell_type": "code",
   "execution_count": 198,
   "outputs": [
    {
     "data": {
      "text/plain": "array([[155, 135, 116],\n       [475, 423, 436],\n       [795, 711, 756]])"
     },
     "metadata": {},
     "output_type": "execute_result",
     "execution_count": 198
    }
   ],
   "source": [
    "a=np.arange(12).reshape(3,4)\n",
    "b=np.random.randint(1,30,12).reshape(4,3)\n",
    "c=np.dot(a,b)\n",
    "c"
   ],
   "metadata": {
    "collapsed": false,
    "pycharm": {
     "name": "#%%\n",
     "is_executing": false
    }
   }
  },
  {
   "cell_type": "code",
   "execution_count": 201,
   "outputs": [
    {
     "data": {
      "text/plain": "array([[ 0,  1,  2,  3],\n       [-1, -1, -1, -1],\n       [-1, -1, 10, 11]])"
     },
     "metadata": {},
     "output_type": "execute_result",
     "execution_count": 201
    }
   ],
   "source": [
    "a=np.arange(12).reshape(3,4)\n",
    "a[(a>3)&(a<10)]=-1\n",
    "a\n",
    "\n"
   ],
   "metadata": {
    "collapsed": false,
    "pycharm": {
     "name": "#%%\n",
     "is_executing": false
    }
   }
  },
  {
   "cell_type": "code",
   "execution_count": 206,
   "outputs": [
    {
     "name": "stdout",
     "text": [
      "10\n",
      "10\n"
     ],
     "output_type": "stream"
    }
   ],
   "source": [
    "print(sum(range(5),-1))\n",
    "from numpy import *\n",
    "print(sum(range(5),-1))"
   ],
   "metadata": {
    "collapsed": false,
    "pycharm": {
     "name": "#%%\n",
     "is_executing": false
    }
   }
  },
  {
   "cell_type": "code",
   "execution_count": 212,
   "outputs": [
    {
     "data": {
      "text/plain": "array([0.2663, 0.8405, 0.7293, 0.113 , 0.3492, 0.4143, 0.6329, 0.4645,\n       0.1221])"
     },
     "metadata": {},
     "output_type": "execute_result",
     "execution_count": 212
    }
   ],
   "source": [
    "a=np.random.random(9)\n",
    "np.around(a,decimals=4)"
   ],
   "metadata": {
    "collapsed": false,
    "pycharm": {
     "name": "#%%\n",
     "is_executing": false
    }
   }
  },
  {
   "cell_type": "code",
   "execution_count": 249,
   "outputs": [
    {
     "name": "stdout",
     "text": [
      "[8 8 6 3 3 5 9 6 5 3]\n",
      "[3 5 4 8 1 7 1 7 4 7]\n",
      "[3 5 8] [1 3 4 5 6 7 8 9]\n"
     ],
     "output_type": "stream"
    }
   ],
   "source": [
    "a=np.random.randint(1,10,10)\n",
    "\n",
    "b=np.random.randint(1,10,10)\n",
    "print(a)\n",
    "print(b)\n",
    "c=np.intersect1d(a,b)\n",
    "d=np.union1d(a,b)\n",
    "print(c,d)"
   ],
   "metadata": {
    "collapsed": false,
    "pycharm": {
     "name": "#%%\n",
     "is_executing": false
    }
   }
  },
  {
   "cell_type": "code",
   "execution_count": 260,
   "outputs": [
    {
     "data": {
      "text/plain": "numpy.datetime64('2020-02-27')"
     },
     "metadata": {},
     "output_type": "execute_result",
     "execution_count": 260
    }
   ],
   "source": [
    "c=np.datetime64(\"today\",\"D\")+np.timedelta64(12,\"D\")\n",
    "c"
   ],
   "metadata": {
    "collapsed": false,
    "pycharm": {
     "name": "#%%\n",
     "is_executing": false
    }
   }
  }
 ],
 "metadata": {
  "kernelspec": {
   "display_name": "Python 3",
   "language": "python",
   "name": "python3"
  },
  "language_info": {
   "codemirror_mode": {
    "name": "ipython",
    "version": 2
   },
   "file_extension": ".py",
   "mimetype": "text/x-python",
   "name": "python",
   "nbconvert_exporter": "python",
   "pygments_lexer": "ipython2",
   "version": "2.7.6"
  },
  "pycharm": {
   "stem_cell": {
    "cell_type": "raw",
    "source": [],
    "metadata": {
     "collapsed": false
    }
   }
  }
 },
 "nbformat": 4,
 "nbformat_minor": 0
}